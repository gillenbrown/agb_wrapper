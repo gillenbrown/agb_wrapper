{
 "cells": [
  {
   "cell_type": "code",
   "execution_count": 1,
   "metadata": {},
   "outputs": [],
   "source": [
    "from _agb.lib import find_z_bound_idxs, get_ejecta_rate, read_in_check, find_age_bound_idxs, get_ages, guess_age_idx"
   ]
  },
  {
   "cell_type": "markdown",
   "metadata": {},
   "source": [
    "Test that the function to find the index to interpolate in metallicity is correct."
   ]
  },
  {
   "cell_type": "code",
   "execution_count": 2,
   "metadata": {},
   "outputs": [],
   "source": [
    "test_zs = [0, 0.0001, 0.0002, 0.00099, 0.001, 0.002, \n",
    "           0.005999, 0.006, 0.007, 0.009, 0.01, 0.015, 0.02, 0.03]"
   ]
  },
  {
   "cell_type": "code",
   "execution_count": 3,
   "metadata": {},
   "outputs": [
    {
     "name": "stdout",
     "output_type": "stream",
     "text": [
      "0.000000 0 0\n",
      "0.000100 0 0\n",
      "0.000200 0 1\n",
      "0.000990 0 1\n",
      "0.001000 1 1\n",
      "0.002000 1 2\n",
      "0.005999 1 2\n",
      "0.006000 2 2\n",
      "0.007000 2 3\n",
      "0.009000 2 3\n",
      "0.010000 3 3\n",
      "0.015000 3 4\n",
      "0.020000 4 4\n",
      "0.030000 4 4\n"
     ]
    }
   ],
   "source": [
    "for z in test_zs:\n",
    "    z_idxs = find_z_bound_idxs(z)\n",
    "    print(\"{:8f} {} {}\".format(z, z_idxs[0], z_idxs[1]))"
   ]
  },
  {
   "cell_type": "markdown",
   "metadata": {},
   "source": [
    "I'll do similar tests for age, both with and without the proper formula in `guess_age_idx`. This can't be done in line here in the notebook, since it has to run twice, but I'll just have to trust myself that I did it."
   ]
  },
  {
   "cell_type": "code",
   "execution_count": 5,
   "metadata": {},
   "outputs": [
    {
     "data": {
      "text/plain": [
       "14000000000.0"
      ]
     },
     "execution_count": 5,
     "metadata": {},
     "output_type": "execute_result"
    }
   ],
   "source": [
    "read_in_check()"
   ]
  },
  {
   "cell_type": "code",
   "execution_count": null,
   "metadata": {},
   "outputs": [],
   "source": [
    "test_ages = [0, 29E6, 30E6, 40E6, 100E6, 1E9, 5E9, 10E9, 13.9E9, 14E9, 15E9, 1.32944e+08]"
   ]
  },
  {
   "cell_type": "code",
   "execution_count": null,
   "metadata": {},
   "outputs": [],
   "source": [
    "print(\"{:<12} {:<5} {:<5} {:<5} {:<12} {:<12}\".format(\"age\", \"idx\", \"idx+\", \"idx_0\", \"age idx\", \"age idx+\"))\n",
    "for age in test_ages:\n",
    "    age_idxs = find_age_bound_idxs(age)\n",
    "    print(\"{:<12g} {:<5} {:<5} {:<5} {:<12g} {:<12g}\".format(age, \n",
    "                                                             age_idxs[0], \n",
    "                                                             age_idxs[1], \n",
    "                                                             guess_age_idx(age),\n",
    "                                                             get_ages(age_idxs[0]), \n",
    "                                                             get_ages(age_idxs[1])))"
   ]
  },
  {
   "cell_type": "markdown",
   "metadata": {},
   "source": [
    "This does appear to work. \n",
    "\n",
    "We can then see if the yields work! I'll do some simple checking here, with more detailed work in a separate file with unit tests."
   ]
  },
  {
   "cell_type": "code",
   "execution_count": null,
   "metadata": {},
   "outputs": [],
   "source": [
    "for a in test_ages:\n",
    "    for z in test_zs:\n",
    "        rates = get_ejecta_rate(a, z)\n",
    "        \n",
    "        str_fmt = \"age = {:<12g}, z={:<8f}\\n\".format(a, z)\n",
    "        str_fmt += \"{:<7g}  \" * 5 + \"\\n\\n\"\n",
    "        print(str_fmt.format(rates[0], rates[1], rates[2], rates[3], rates[4]))"
   ]
  },
  {
   "cell_type": "code",
   "execution_count": null,
   "metadata": {},
   "outputs": [],
   "source": [
    "for idx in range(10):\n",
    "    print(rates[idx])"
   ]
  },
  {
   "cell_type": "code",
   "execution_count": null,
   "metadata": {},
   "outputs": [],
   "source": []
  },
  {
   "cell_type": "code",
   "execution_count": null,
   "metadata": {},
   "outputs": [],
   "source": []
  },
  {
   "cell_type": "code",
   "execution_count": null,
   "metadata": {},
   "outputs": [],
   "source": []
  }
 ],
 "metadata": {
  "kernelspec": {
   "display_name": "Python [conda env:general]",
   "language": "python",
   "name": "conda-env-general-py"
  },
  "language_info": {
   "codemirror_mode": {
    "name": "ipython",
    "version": 3
   },
   "file_extension": ".py",
   "mimetype": "text/x-python",
   "name": "python",
   "nbconvert_exporter": "python",
   "pygments_lexer": "ipython3",
   "version": "3.5.6"
  }
 },
 "nbformat": 4,
 "nbformat_minor": 2
}
