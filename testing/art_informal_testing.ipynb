{
 "cells": [
  {
   "cell_type": "markdown",
   "metadata": {},
   "source": [
    "# Informal testing\n",
    "\n",
    "This does a few tests of the code that are informal. I don't think most of them need to be codified into actual tests, since all we really care about is the final results."
   ]
  },
  {
   "cell_type": "code",
   "execution_count": 1,
   "metadata": {},
   "outputs": [],
   "source": [
    "import sys, os\n",
    "sys.path.append(os.path.abspath(\"../\"))"
   ]
  },
  {
   "cell_type": "code",
   "execution_count": 2,
   "metadata": {},
   "outputs": [],
   "source": [
    "from art_enrich import lib as tab"
   ]
  },
  {
   "cell_type": "markdown",
   "metadata": {},
   "source": [
    "Test that the function to find the index to interpolate in metallicity is correct."
   ]
  },
  {
   "cell_type": "code",
   "execution_count": 3,
   "metadata": {},
   "outputs": [],
   "source": [
    "tab.init_detailed_enrichment()"
   ]
  },
  {
   "cell_type": "code",
   "execution_count": 4,
   "metadata": {},
   "outputs": [],
   "source": [
    "test_zs = [0, 0.000005, 0.0001, 0.0002, 0.00099, 0.001, 0.002, \n",
    "           0.005999, 0.006, 0.007, 0.009, 0.01, 0.015, 0.02, 0.03]"
   ]
  },
  {
   "cell_type": "code",
   "execution_count": 5,
   "metadata": {},
   "outputs": [
    {
     "name": "stdout",
     "output_type": "stream",
     "text": [
      "0.000000 0 0\n",
      "0.000005 0 0\n",
      "0.000100 0 0\n",
      "0.000200 0 1\n",
      "0.000990 0 1\n",
      "0.001000 1 1\n",
      "0.002000 1 2\n",
      "0.005999 1 2\n",
      "0.006000 2 2\n",
      "0.007000 2 3\n",
      "0.009000 2 3\n",
      "0.010000 3 3\n",
      "0.015000 3 4\n",
      "0.020000 4 4\n",
      "0.030000 4 4\n"
     ]
    }
   ],
   "source": [
    "for z in test_zs:\n",
    "    z_idxs = tab.find_z_bound_idxs_agb_py(z)\n",
    "    print(\"{:8f} {} {}\".format(z, z_idxs[0], z_idxs[1]))"
   ]
  },
  {
   "cell_type": "markdown",
   "metadata": {},
   "source": [
    "I'll do similar tests for age, both with and without the proper formula in `guess_age_idx`. This can't be done in line here in the notebook, since it has to run twice, but I'll just have to trust myself that I did it."
   ]
  },
  {
   "cell_type": "code",
   "execution_count": 6,
   "metadata": {},
   "outputs": [],
   "source": [
    "test_ages = [0, 29E6, 30E6, 40E6, 100E6, 1E9, 5E9, 10E9, 13.9E9, 14E9, 15E9, 1.32944e+08]"
   ]
  },
  {
   "cell_type": "code",
   "execution_count": 7,
   "metadata": {},
   "outputs": [
    {
     "name": "stdout",
     "output_type": "stream",
     "text": [
      "age          idx   idx+  idx_0 age idx      age idx+    \n",
      "0            0     0     0     0            0           \n",
      "2.9e+07      0     1     0     0            3e+07       \n",
      "3e+07        1     1     1     3e+07        3e+07       \n",
      "4e+07        47    48    47    3.99391e+07  4.01883e+07 \n",
      "1e+08        194   195   194   9.96653e+07  1.00287e+08 \n",
      "1e+09        564   565   564   9.95778e+08  1.00199e+09 \n",
      "5e+09        823   824   823   4.98764e+09  5.01877e+09 \n",
      "1e+10        934   935   935   9.94903e+09  1.00111e+10 \n",
      "1.39e+10     987   988   988   1.38347e+10  1.3921e+10  \n",
      "1.4e+10      988   989   989   1.3921e+10   1.40079e+10 \n",
      "1.5e+10      1000  1000  999   1.5e+10      1.5e+10     \n",
      "1.32944e+08  240   241   240   1.32685e+08  1.33513e+08 \n"
     ]
    }
   ],
   "source": [
    "print(\"{:<12} {:<5} {:<5} {:<5} {:<12} {:<12}\".format(\"age\", \"idx\", \"idx+\", \"idx_0\", \"age idx\", \"age idx+\"))\n",
    "for age in test_ages:\n",
    "    age_idxs = tab.find_age_bound_idxs_agb_py(age)\n",
    "    print(\"{:<12g} {:<5} {:<5} {:<5} {:<12g} {:<12g}\".format(age, \n",
    "                                                             age_idxs[0], \n",
    "                                                             age_idxs[1], \n",
    "                                                             tab.guess_age_idx_agb_py(age),\n",
    "                                                             tab.get_ages_agb(age_idxs[0]), \n",
    "                                                             tab.get_ages_agb(age_idxs[1])))"
   ]
  },
  {
   "cell_type": "markdown",
   "metadata": {},
   "source": [
    "This does appear to work. \n",
    "\n",
    "We can then see if the yields work! I'll do some simple checking here, with more detailed work in a separate file with unit tests."
   ]
  },
  {
   "cell_type": "code",
   "execution_count": 8,
   "metadata": {
    "scrolled": true
   },
   "outputs": [],
   "source": [
    "# for a in test_ages:\n",
    "#     for z in test_zs:\n",
    "#         rates = tab.get_ejecta_rate_agb_py(a, z)\n",
    "        \n",
    "#         str_fmt = \"age = {:<12g}, z={:<8f}\\n\".format(a, z)\n",
    "#         str_fmt += \"{:<7g}  \" * 5 + \"\\n\\n\"\n",
    "#         print(str_fmt.format(rates[0], rates[1], rates[2], rates[3], rates[4]))"
   ]
  },
  {
   "cell_type": "code",
   "execution_count": 10,
   "metadata": {},
   "outputs": [
    {
     "name": "stdout",
     "output_type": "stream",
     "text": [
      "0.0\n",
      "0.001\n",
      "0.004\n",
      "0.02\n",
      "0.0\n",
      "1000000.0\n",
      "6.0\n",
      "50000000.0\n",
      "7.698970004336019\n",
      "0.0017013139310675445\n"
     ]
    }
   ],
   "source": [
    "for idx in range(10):\n",
    "    print(tab.get_z_winds(idx))"
   ]
  },
  {
   "cell_type": "code",
   "execution_count": 11,
   "metadata": {},
   "outputs": [
    {
     "name": "stdout",
     "output_type": "stream",
     "text": [
      "0.0\n",
      "0.001\n",
      "0.004\n",
      "0.02\n",
      "0.0\n",
      "1000000.0\n",
      "6.0\n",
      "50000000.0\n",
      "7.698970004336019\n",
      "0.0017013139310675445\n"
     ]
    }
   ],
   "source": [
    "for idx in range(10):\n",
    "    print(tab.get_z_sn_ii(idx))"
   ]
  },
  {
   "cell_type": "code",
   "execution_count": 12,
   "metadata": {},
   "outputs": [
    {
     "name": "stdout",
     "output_type": "stream",
     "text": [
      "0.0001\n",
      "0.001\n",
      "0.006\n",
      "0.01\n",
      "0.02\n",
      "30000000.0\n",
      "7.477121254719663\n",
      "15000000000.0\n",
      "10.176091259055681\n",
      "0.0027008629670441896\n"
     ]
    }
   ],
   "source": [
    "for idx in range(10):\n",
    "    print(tab.get_z_agb(idx))"
   ]
  },
  {
   "cell_type": "code",
   "execution_count": 13,
   "metadata": {
    "scrolled": true
   },
   "outputs": [
    {
     "name": "stdout",
     "output_type": "stream",
     "text": [
      "0.0\n",
      "1000000.0\n",
      "1003920.0\n",
      "1007860.0\n",
      "1011820.0\n",
      "1015790.0\n",
      "1019770.0\n",
      "1023770.0\n",
      "1027790.0\n",
      "1031820.0\n"
     ]
    }
   ],
   "source": [
    "for idx in range(10):\n",
    "    print(tab.get_ages_sn_ii(idx))"
   ]
  },
  {
   "cell_type": "code",
   "execution_count": 14,
   "metadata": {},
   "outputs": [
    {
     "data": {
      "text/plain": [
       "<cdata 'double *' 0x7fff55799e50>"
      ]
     },
     "execution_count": 14,
     "metadata": {},
     "output_type": "execute_result"
    }
   ],
   "source": [
    "tab.get_ejecta_rate_agb_py(1E9, 0.02)"
   ]
  },
  {
   "cell_type": "code",
   "execution_count": null,
   "metadata": {},
   "outputs": [],
   "source": []
  }
 ],
 "metadata": {
  "kernelspec": {
   "display_name": "Python 3",
   "language": "python",
   "name": "python3"
  },
  "language_info": {
   "codemirror_mode": {
    "name": "ipython",
    "version": 3
   },
   "file_extension": ".py",
   "mimetype": "text/x-python",
   "name": "python",
   "nbconvert_exporter": "python",
   "pygments_lexer": "ipython3",
   "version": "3.5.6"
  }
 },
 "nbformat": 4,
 "nbformat_minor": 2
}
