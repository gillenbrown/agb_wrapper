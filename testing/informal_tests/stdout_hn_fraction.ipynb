{
 "cells": [
  {
   "cell_type": "code",
   "execution_count": 84,
   "metadata": {},
   "outputs": [],
   "source": [
    "import sys\n",
    "import pytest\n",
    "from pathlib import Path\n",
    "from collections import defaultdict\n",
    "from astropy import units as u\n",
    "from astropy import constants as c\n",
    "import tabulation\n",
    "import numpy as np\n",
    "from scipy import special\n",
    "import betterplotlib as bpl\n",
    "bpl.presentation_style()\n",
    "\n",
    "# add directory of stdout tests to import the parsing\n",
    "this_dir = Path(\"\").absolute()\n",
    "sys.path.append(str(this_dir.parent/\"stdout_tests\"))\n",
    "from parse_stdout import parse_file"
   ]
  },
  {
   "cell_type": "code",
   "execution_count": 71,
   "metadata": {},
   "outputs": [],
   "source": [
    "sys.path.append(str(this_dir.parent.parent/\"build\"))\n",
    "\n",
    "from snii_enrich_ia_elts_cluster_discrete import lib as snii_c_code\n",
    "from core_enrich_ia_elts_cluster_discrete import lib as core_c_code\n",
    "\n",
    "core_c_code.detailed_enrichment_init()\n",
    "snii_c_code.detailed_enrichment_init()\n",
    "snii_c_code.init_rand()"
   ]
  },
  {
   "cell_type": "code",
   "execution_count": 74,
   "metadata": {},
   "outputs": [],
   "source": [
    "base_code_length = u.def_unit(\"base_code_length\", 4 * u.Mpc / 128)\n",
    "h = 0.6814000010490417\n",
    "H_0 = 100 * h * u.km / (u.second * u.Mpc)\n",
    "omega_m = 0.3035999834537506\n",
    "code_mass = u.def_unit(\"code_mass\", 3 * H_0**2 * omega_m / (8 * np.pi * c.G) *\n",
    "                       base_code_length**3)\n",
    "base_code_time = u.def_unit(\"base_code_time\", 2.0 / (H_0 * np.sqrt(omega_m)))\n",
    "def code_time_func(a_box):\n",
    "    return u.def_unit(\"code_time\", base_code_time * a_box**2)\n",
    "\n",
    "def code_length_func(a_box):\n",
    "    return u.def_unit(\"code_length\", base_code_length * a_box)\n",
    "\n",
    "def code_energy_func(a_box):\n",
    "    e_val = code_mass * (code_length_func(a_box) / code_time_func(a_box))**2\n",
    "    return u.def_unit(\"code_energy\", e_val)\n",
    "\n",
    "def code_energy_to_erg(energy_in_code_units, a):\n",
    "    code_energy = code_energy_func(a)\n",
    "    return (energy_in_code_units * code_energy).to(u.erg).value\n",
    "\n",
    "def get_sn_mass(step):\n",
    "    # get the number of supernovae based on the energy\n",
    "    return 0.5 * (step[\"m_turnoff_now\"] + step[\"m_turnoff_next\"])\n",
    "\n",
    "def sn_and_hn(step):\n",
    "    # Determine how many SN and HN are happening in a given timestep. First\n",
    "    # we'll use the IMF limits to estimate how many SN are possible in this\n",
    "    # timestep. then we'll test all possible combinations of SN and HN in this\n",
    "    # timestep to see if they match the energy injected\n",
    "    energy_ergs = code_energy_to_erg(step[\"energy added\"], step[\"abox[level]\"])\n",
    "    sn_mass = get_sn_mass(step)\n",
    "    total_sn = int(step[\"number SN\"])\n",
    "\n",
    "    if sn_mass < 20.0:  # no HN\n",
    "        n_sn = int(round(energy_ergs / 1E51, 0))\n",
    "        return n_sn, 0\n",
    "    else:\n",
    "        hn_energy = snii_c_code.hn_energy_py(sn_mass)\n",
    "        for n_hn in range(total_sn + 1): # have iteration with all HN\n",
    "            n_sn = total_sn - n_hn\n",
    "            this_E = n_sn * 1E51 + n_hn * hn_energy\n",
    "            if this_E == pytest.approx(energy_ergs, abs=0, rel=1E-4):\n",
    "                return n_sn, n_hn\n",
    "        # if we got here we didn't find an answer\n",
    "        assert False"
   ]
  },
  {
   "cell_type": "code",
   "execution_count": null,
   "metadata": {},
   "outputs": [],
   "source": []
  },
  {
   "cell_type": "code",
   "execution_count": 24,
   "metadata": {},
   "outputs": [],
   "source": [
    "stdout_file = str(this_dir.parent/\"stdout_tests/stdout_snii.txt\")\n",
    "timesteps_all = parse_file(stdout_file, \"SNII\")"
   ]
  },
  {
   "cell_type": "code",
   "execution_count": 25,
   "metadata": {},
   "outputs": [
    {
     "data": {
      "text/plain": [
       "20540"
      ]
     },
     "execution_count": 25,
     "metadata": {},
     "output_type": "execute_result"
    }
   ],
   "source": [
    "len(timesteps_all)"
   ]
  },
  {
   "cell_type": "code",
   "execution_count": 28,
   "metadata": {},
   "outputs": [],
   "source": [
    "# then go through them and pick the ones with HN\n",
    "timesteps_hn = []\n",
    "\n",
    "for timestep in timesteps_all:\n",
    "    if timestep[\"energy added\"] > 0 and timestep[\"m_turnoff_now\"] > 20:\n",
    "        timesteps_hn.append(timestep)"
   ]
  },
  {
   "cell_type": "code",
   "execution_count": 29,
   "metadata": {},
   "outputs": [
    {
     "data": {
      "text/plain": [
       "305"
      ]
     },
     "execution_count": 29,
     "metadata": {},
     "output_type": "execute_result"
    }
   ],
   "source": [
    "len(timesteps_hn)"
   ]
  },
  {
   "cell_type": "markdown",
   "metadata": {},
   "source": [
    "# Check metallicities"
   ]
  },
  {
   "cell_type": "code",
   "execution_count": 30,
   "metadata": {},
   "outputs": [],
   "source": [
    "zs = [step[\"metallicity\"] for step in timesteps_hn]"
   ]
  },
  {
   "cell_type": "code",
   "execution_count": 38,
   "metadata": {},
   "outputs": [
    {
     "data": {
      "text/plain": [
       "9.885516192298383e-06"
      ]
     },
     "execution_count": 38,
     "metadata": {},
     "output_type": "execute_result"
    }
   ],
   "source": [
    "min(zs)"
   ]
  },
  {
   "cell_type": "code",
   "execution_count": 43,
   "metadata": {},
   "outputs": [
    {
     "data": {
      "text/plain": [
       "0.0006737691001035273"
      ]
     },
     "execution_count": 43,
     "metadata": {},
     "output_type": "execute_result"
    }
   ],
   "source": [
    "max(zs) "
   ]
  },
  {
   "cell_type": "code",
   "execution_count": 50,
   "metadata": {},
   "outputs": [
    {
     "data": {
      "image/png": "[encoded data removed]",
      "text/plain": [
       "<Figure size 1000x700 with 1 Axes>"
      ]
     },
     "metadata": {
      "needs_background": "light"
     },
     "output_type": "display_data"
    }
   ],
   "source": [
    "fig, ax = bpl.subplots()\n",
    "\n",
    "bin_edges = np.logspace(-6, -1, 100)\n",
    "ax.hist(zs, bins=bin_edges)\n",
    "ax.set_xscale(\"log\")"
   ]
  },
  {
   "cell_type": "code",
   "execution_count": 57,
   "metadata": {},
   "outputs": [],
   "source": [
    "def find_bin(z):\n",
    "    return str(round(np.log10(z/0.02), 1))\n",
    "\n",
    "binned_steps = defaultdict(list)\n",
    "for step in timesteps_hn:\n",
    "    binned_steps[find_bin(step[\"metallicity\"])].append(step)"
   ]
  },
  {
   "cell_type": "code",
   "execution_count": 60,
   "metadata": {},
   "outputs": [
    {
     "name": "stdout",
     "output_type": "stream",
     "text": [
      "212\n",
      "37\n",
      "22\n",
      "23\n",
      "11\n"
     ]
    }
   ],
   "source": [
    "for item in binned_steps:\n",
    "    print(len(binned_steps[item]))"
   ]
  },
  {
   "cell_type": "code",
   "execution_count": 90,
   "metadata": {},
   "outputs": [
    {
     "name": "stdout",
     "output_type": "stream",
     "text": [
      "-3.3 212\n",
      "-1.9 37\n",
      "-1.7 22\n",
      "-1.6 23\n",
      "-1.5 11\n"
     ]
    }
   ],
   "source": [
    "binned_zs   = []\n",
    "binned_f_hn = []\n",
    "binned_f_hn_error = []\n",
    "\n",
    "for z in binned_steps:\n",
    "    binned_zs.append(float(z))\n",
    "    \n",
    "    n_sn = 0\n",
    "    n_hn = 0\n",
    "    for step in binned_steps[z]:\n",
    "        s, h = sn_and_hn(step)\n",
    "        n_sn += s\n",
    "        n_hn += h\n",
    "    \n",
    "    n_tot = n_hn + n_sn\n",
    "    print(z, n_tot)\n",
    "    this_f = n_hn / n_tot\n",
    "    binned_f_hn.append(this_f)\n",
    "    # https://en.wikipedia.org/wiki/Binomial_proportion_confidence_interval#Normal_approximation_interval\n",
    "    binned_f_hn_error.append(np.sqrt(this_f * (1 - this_f) / n_tot))"
   ]
  },
  {
   "cell_type": "code",
   "execution_count": 99,
   "metadata": {},
   "outputs": [
    {
     "name": "stderr",
     "output_type": "stream",
     "text": [
      "Substituting with a symbol from Computer Modern.\n",
      "Substituting with a symbol from Computer Modern.\n",
      "Substituting with a symbol from Computer Modern.\n",
      "Substituting with a symbol from Computer Modern.\n",
      "Substituting with a symbol from Computer Modern.\n",
      "Substituting with a symbol from Computer Modern.\n",
      "Substituting with a symbol from Computer Modern.\n",
      "Substituting with a symbol from Computer Modern.\n"
     ]
    },
    {
     "data": {
      "image/png": "[encoded data removed]",
      "text/plain": [
       "<Figure size 1000x700 with 1 Axes>"
      ]
     },
     "metadata": {
      "needs_background": "light"
     },
     "output_type": "display_data"
    }
   ],
   "source": [
    "fig, ax = bpl.subplots()\\\n",
    "\n",
    "ax.errorbar(binned_zs, binned_f_hn, yerr=binned_f_hn_error, label=\"Runtime\", zorder=10)\n",
    "\n",
    "z_raw = np.logspace(-6, np.log10(0.02), 100)\n",
    "z_plot = np.log10(z_raw / 0.02)\n",
    "hn_fraction = [snii_c_code.get_hn_fraction_py(z) for z in z_raw]\n",
    "ax.plot(z_plot, hn_fraction, label=\"Expected\")\n",
    "\n",
    "ax.add_labels(\"log(Z/$Z_{\\odot}$)\", \"HN Fraction\")\n",
    "ax.set_limits(-4, 0, 0, 0.6)\n",
    "ax.legend()\n",
    "fig.savefig(\"stdout_hn_fraction.png\", bbox_inches=\"tight\")"
   ]
  },
  {
   "cell_type": "code",
   "execution_count": null,
   "metadata": {},
   "outputs": [],
   "source": []
  }
 ],
 "metadata": {
  "kernelspec": {
   "display_name": "general",
   "language": "python",
   "name": "general"
  },
  "language_info": {
   "codemirror_mode": {
    "name": "ipython",
    "version": 3
   },
   "file_extension": ".py",
   "mimetype": "text/x-python",
   "name": "python",
   "nbconvert_exporter": "python",
   "pygments_lexer": "ipython3",
   "version": "3.8.2"
  }
 },
 "nbformat": 4,
 "nbformat_minor": 4
}
