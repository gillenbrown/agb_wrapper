{
 "cells": [
  {
   "cell_type": "markdown",
   "metadata": {},
   "source": [
    "Much of this code will be copied from code elsewhere"
   ]
  },
  {
   "cell_type": "code",
   "execution_count": 2,
   "metadata": {},
   "outputs": [],
   "source": [
    "from collections import defaultdict\n",
    "import numpy as np\n",
    "import tabulation\n",
    "from tabulation import Lifetimes\n",
    "from tabulation import IMF\n",
    "from scipy import integrate\n",
    "from tqdm.notebook import tqdm\n",
    "import cmocean\n",
    "from matplotlib import colors as mpl_colors\n",
    "from matplotlib import cm\n",
    "from astropy import table\n",
    "\n",
    "import betterplotlib as bpl\n",
    "bpl.set_style()"
   ]
  },
  {
   "cell_type": "code",
   "execution_count": 3,
   "metadata": {},
   "outputs": [],
   "source": [
    "import sys, os\n",
    "sys.path.append(os.path.abspath(\"../../build/\"))"
   ]
  },
  {
   "cell_type": "code",
   "execution_count": 4,
   "metadata": {},
   "outputs": [],
   "source": [
    "from core_enrich_ia_elts_cluster_discrete import lib as core\n",
    "from snia_enrich_ia_elts_cluster          import lib as snia_continuous\n",
    "from snii_enrich_ia_elts_cluster          import lib as snii_continuous\n",
    "from agb_enrich_ia_elts_cluster_discrete  import lib as agb\n",
    "from wind_enrich_ia_elts_cluster_discrete import lib as winds"
   ]
  },
  {
   "cell_type": "code",
   "execution_count": null,
   "metadata": {},
   "outputs": [],
   "source": [
    "core.detailed_enrichment_init()\n",
    "snia_continuous.detailed_enrichment_init()\n",
    "snii_continuous.detailed_enrichment_init()\n",
    "agb.detailed_enrichment_init()\n",
    "winds.detailed_enrichment_init()"
   ]
  },
  {
   "cell_type": "code",
   "execution_count": 1,
   "metadata": {},
   "outputs": [
    {
     "ename": "NameError",
     "evalue": "name 'Lifetimes' is not defined",
     "output_type": "error",
     "traceback": [
      "\u001b[0;31m---------------------------------------------------------------------------\u001b[0m",
      "\u001b[0;31mNameError\u001b[0m                                 Traceback (most recent call last)",
      "\u001b[0;32m<ipython-input-1-558c73dd5033>\u001b[0m in \u001b[0;36m<module>\u001b[0;34m\u001b[0m\n\u001b[0;32m----> 1\u001b[0;31m \u001b[0mlt\u001b[0m \u001b[0;34m=\u001b[0m \u001b[0mLifetimes\u001b[0m\u001b[0;34m(\u001b[0m\u001b[0;34m\"Raiteri_96\"\u001b[0m\u001b[0;34m)\u001b[0m\u001b[0;34m\u001b[0m\u001b[0;34m\u001b[0m\u001b[0m\n\u001b[0m\u001b[1;32m      2\u001b[0m \u001b[0mimf\u001b[0m \u001b[0;34m=\u001b[0m \u001b[0mIMF\u001b[0m\u001b[0;34m(\u001b[0m\u001b[0;34m\"Kroupa\"\u001b[0m\u001b[0;34m,\u001b[0m \u001b[0;36m0.08\u001b[0m\u001b[0;34m,\u001b[0m \u001b[0;36m50\u001b[0m\u001b[0;34m,\u001b[0m \u001b[0mtotal_mass\u001b[0m\u001b[0;34m=\u001b[0m\u001b[0;36m1\u001b[0m\u001b[0;34m)\u001b[0m\u001b[0;34m\u001b[0m\u001b[0;34m\u001b[0m\u001b[0m\n",
      "\u001b[0;31mNameError\u001b[0m: name 'Lifetimes' is not defined"
     ]
    }
   ],
   "source": [
    "lt = Lifetimes(\"Raiteri_96\")\n",
    "imf = IMF(\"Kroupa\", 0.08, 50, total_mass=1)"
   ]
  },
  {
   "cell_type": "markdown",
   "metadata": {},
   "source": [
    "# generate history"
   ]
  },
  {
   "cell_type": "code",
   "execution_count": null,
   "metadata": {},
   "outputs": [],
   "source": [
    "dt_sn = 1E5\n",
    "dt_agb = 1E6"
   ]
  },
  {
   "cell_type": "code",
   "execution_count": null,
   "metadata": {},
   "outputs": [],
   "source": [
    "def ceil_to_nearest(num, scale):\n",
    "    test_values = np.arange(0, num+2*scale, scale)\n",
    "    for val in test_values:\n",
    "        if val - scale > num:\n",
    "            return val"
   ]
  },
  {
   "cell_type": "code",
   "execution_count": null,
   "metadata": {},
   "outputs": [],
   "source": [
    "times = dict()\n",
    "turnoff_masses = dict()\n",
    "def generate_times(zs):\n",
    "    for z in zs:\n",
    "        split = ceil_to_nearest(lt.lifetime(8.0, z), dt_sn)\n",
    "        times[z] = np.concatenate([np.arange(0, split, dt_sn),\n",
    "                                   np.arange(split, 14E9, dt_agb)])\n",
    "        turnoff_masses[z] = [lt.turnoff_mass(t, z) for t in tqdm(times[z])]"
   ]
  },
  {
   "cell_type": "code",
   "execution_count": null,
   "metadata": {},
   "outputs": [],
   "source": [
    "zs = [0.02, 0.01, 0.006, 0.004, 0.001, 0.0001]"
   ]
  },
  {
   "cell_type": "code",
   "execution_count": null,
   "metadata": {},
   "outputs": [],
   "source": [
    "generate_times(zs)"
   ]
  },
  {
   "cell_type": "code",
   "execution_count": null,
   "metadata": {},
   "outputs": [],
   "source": [
    "solar_metallicities = {\"Z\":0.02, \"C\":2.78E-3, \"N\":8.14E-4, \"O\":7.56E-3,\n",
    "                       \"Mg\":6.45E-4, \"S\":4.79E-4, \"Ca\":6.41E-5, \"Fe\":1.23E-3}"
   ]
  },
  {
   "cell_type": "code",
   "execution_count": null,
   "metadata": {},
   "outputs": [],
   "source": [
    "elts = [\"C\", \"N\", \"O\", \"Mg\", \"S\", \"Ca\", \"Fe\"]\n",
    "all_fields = elts + [\"Z_II\", \"Z_Ia\", \"Z_AGB\", \"Z\", \"total\", \"E\", \"N_SN\", \"N_SN_left\"]\n",
    "sn_ii_idxs = {\"C\": 0, \"N\": 1, \"O\":2, \"Mg\":3, \"S\":4, \"Ca\": 5, \"Fe\": 6,\n",
    "              \"Z_II\": 7, \"Z\": 7, \"total\": 8, \"E\": 9, \"N_SN\": 10, \"N_SN_left\": 11}\n",
    "agb_idxs = {\"C\": 0, \"N\": 1, \"O\":2, \"Mg\":3, \"S\":4, \"Ca\": 5, \"Fe\": 6,\n",
    "           \"Z_AGB\": 7, \"Z\": 7, \"total\":8}\n",
    "sn_ia_idxs = {\"C\": 0, \"N\": 1, \"O\":2, \"Mg\":3, \"S\":4, \"Ca\": 5, \"Fe\": 6,\n",
    "              \"Z_Ia\": 7, \"Z\": 7, \"total\": 7, \"E\": 8, \"N_SN_left\": 9}\n",
    "# The raw yields doesn't return some elements, since those are scaled based on\n",
    "# the metallicity of the star\n",
    "agb_idxs_yields = {\"C\": 0, \"N\": 1, \"O\":2, \"Mg\":3, \"Z_AGB\":4, \"total\": 5}\n",
    "\n",
    "class SNHistory(object):\n",
    "    def __init__(self, stellar_mass, z, hn_fraction):\n",
    "        snii_continuous.set_hn_fraction_py(hn_fraction)\n",
    "        \n",
    "        self.mass = stellar_mass\n",
    "        self.z = z\n",
    "        \n",
    "        self.age_50 = lt.lifetime(50.0, self.z)\n",
    "        \n",
    "        self.times = times[z]\n",
    "        self.turnoff_masses = turnoff_masses[z]\n",
    "        \n",
    "        \n",
    "        self.sn_ii_func = snii_continuous.get_ejecta_sn_ii_py\n",
    "        self.sn_ia_func = snia_continuous.sn_ia_core_py\n",
    "        \n",
    "        self.sn_ia_start = lt.lifetime(8.0, self.z)\n",
    "        \n",
    "        self.yields = defaultdict(list)\n",
    "        self.cumulative = defaultdict(list)\n",
    "        \n",
    "        self.yields_sn_ii = defaultdict(list)\n",
    "        self.cumulative_sn_ii = defaultdict(list)\n",
    "        \n",
    "        self.yields_sn_ia = defaultdict(list)\n",
    "        self.cumulative_sn_ia = defaultdict(list)\n",
    "        \n",
    "        self.yields_agb = defaultdict(list)\n",
    "        self.cumulative_agb = defaultdict(list)\n",
    "        \n",
    "        self.yields_winds = defaultdict(list)\n",
    "        self.cumulative_winds = defaultdict(list)\n",
    "        \n",
    "        self.handle_history()\n",
    "        \n",
    "    def handle_history(self, verbose=False):\n",
    "        self.unexploded_sn_ii = 0\n",
    "        self.unexploded_sn_ia = 0\n",
    "        \n",
    "        for idx in range(len(self.turnoff_masses) - 1):\n",
    "            m_now  = self.turnoff_masses[idx]\n",
    "            m_next = self.turnoff_masses[idx+1]\n",
    "            age_now = self.times[idx]\n",
    "            age_next = self.times[idx+1]\n",
    "            dt = age_next - age_now\n",
    "            sn_ii_yields = self.sn_ii_func(self.unexploded_sn_ii, m_now, m_next, self.mass, self.z)\n",
    "            agb_yields = agb.get_ejecta_agb_py(m_now, m_next, self.mass, self.z,\n",
    "                                               (self.z/0.02) * solar_metallicities[\"S\"],\n",
    "                                               (self.z/0.02) * solar_metallicities[\"Ca\"],\n",
    "                                               (self.z/0.02) * solar_metallicities[\"Fe\"])\n",
    "            sn_ia_yields = self.sn_ia_func(self.unexploded_sn_ia, age_now, dt,\n",
    "                                           self.mass, self.z, self.sn_ia_start)\n",
    "            winds_yields = winds.get_ejecta_winds_py(age_now, age_next, \n",
    "                                                     m_now, m_next, \n",
    "                                                     self.mass, self.z, self.age_50)\n",
    "            \n",
    "            for field in all_fields:\n",
    "                if field in sn_ii_idxs:\n",
    "                    this_sn_ii_yield = sn_ii_yields[sn_ii_idxs[field]]\n",
    "                else:\n",
    "                    this_sn_ii_yield = 0\n",
    "                    \n",
    "                if field in sn_ia_idxs:\n",
    "                    this_sn_ia_yield = sn_ia_yields[sn_ia_idxs[field]]\n",
    "                elif field == \"N_SN\":\n",
    "                    this_sn_ia_yield = sn_ia_yields[sn_ia_idxs[\"E\"]] / 2E51\n",
    "                else:\n",
    "                    this_sn_ia_yield = 0\n",
    "                    \n",
    "                \n",
    "                if field in agb_idxs:\n",
    "                    this_agb_yield = agb_yields[agb_idxs[field]]\n",
    "                else:\n",
    "                    this_agb_yield = 0\n",
    "                    \n",
    "                if field == \"total\":\n",
    "                    this_wind_yield = winds_yields\n",
    "                elif field in elts:\n",
    "                    this_wind_yield = winds_yields * (self.z/0.02) * solar_metallicities[field]\n",
    "                else:\n",
    "                    this_wind_yield = 0\n",
    "                \n",
    "                total_yield = this_sn_ii_yield + this_sn_ia_yield + this_agb_yield + this_wind_yield\n",
    "                \n",
    "                self.yields_sn_ii[field].append(this_sn_ii_yield / dt)\n",
    "                self.yields_sn_ia[field].append(this_sn_ia_yield / dt)\n",
    "                self.yields_agb[field].append(this_agb_yield / dt)\n",
    "                self.yields_winds[field].append(this_wind_yield / dt)\n",
    "                self.yields[field].append(total_yield / dt)\n",
    "                \n",
    "                if len(self.cumulative[field]) == 0:\n",
    "                    self.cumulative[field].append(total_yield)\n",
    "                else:\n",
    "                    self.cumulative[field].append(self.cumulative[field][-1] + total_yield)\n",
    "                    \n",
    "                if len(self.cumulative_sn_ii[field]) == 0:\n",
    "                    self.cumulative_sn_ii[field].append(this_sn_ii_yield)\n",
    "                else:\n",
    "                    self.cumulative_sn_ii[field].append(self.cumulative_sn_ii[field][-1] + this_sn_ii_yield)\n",
    "                    \n",
    "                if len(self.cumulative_sn_ia[field]) == 0:\n",
    "                    self.cumulative_sn_ia[field].append(this_sn_ia_yield)\n",
    "                else:\n",
    "                    self.cumulative_sn_ia[field].append(self.cumulative_sn_ia[field][-1] + this_sn_ia_yield)\n",
    "                    \n",
    "                if len(self.cumulative_agb[field]) == 0:\n",
    "                    self.cumulative_agb[field].append(this_agb_yield)\n",
    "                else:\n",
    "                    self.cumulative_agb[field].append(self.cumulative_agb[field][-1] + this_agb_yield)\n",
    "                    \n",
    "                if len(self.cumulative_winds[field]) == 0:\n",
    "                    self.cumulative_winds[field].append(this_wind_yield)\n",
    "                else:\n",
    "                    self.cumulative_winds[field].append(self.cumulative_winds[field][-1] + this_wind_yield)\n",
    "        "
   ]
  },
  {
   "cell_type": "code",
   "execution_count": null,
   "metadata": {},
   "outputs": [],
   "source": [
    "hn_fractions = [0.0, 0.1, 0.5, 1.0]"
   ]
  },
  {
   "cell_type": "code",
   "execution_count": null,
   "metadata": {},
   "outputs": [],
   "source": [
    "mass = 1\n",
    "\n",
    "histories = {(z, hn_fraction): SNHistory(mass, z, hn_fraction) \n",
    "              for z in zs\n",
    "              for hn_fraction in hn_fractions}"
   ]
  },
  {
   "cell_type": "code",
   "execution_count": null,
   "metadata": {},
   "outputs": [],
   "source": [
    "cmap = bpl.cm.lajolla\n",
    "norm = mpl_colors.Normalize(0, 1.0)\n",
    "hn_mappable = cm.ScalarMappable(norm, cmap)\n",
    "def hn_color(hn_fraction):\n",
    "    proxies = {0: 0.2,\n",
    "               0.1: 0.4,\n",
    "               0.5: 0.6,\n",
    "               1.0: 0.75}\n",
    "    return hn_mappable.to_rgba(proxies[hn_fraction])"
   ]
  },
  {
   "cell_type": "code",
   "execution_count": null,
   "metadata": {},
   "outputs": [],
   "source": [
    "def plot_history(field, z):\n",
    "    plot_times = times[z][1:]\n",
    "    fig, ax = bpl.subplots()\n",
    "    \n",
    "    left_limit = 1E6\n",
    "    right_limit = max(plot_times)\n",
    "    \n",
    "    ax.set_xscale(\"log\")\n",
    "    label = \"Cumulative \" + field + \" Ejecta [$M_\\odot$]\"\n",
    "    ax.add_labels(\"Age [yr]\", label)\n",
    "    ax.easy_add_text(\"M = $10^{\" + str(int(np.log10(mass))) + \"} M_\\odot$\" + \"\\nZ = {}\".format(z), \n",
    "                     \"upper left\")\n",
    "    \n",
    "    \n",
    "    for hn_fraction in hn_fractions:\n",
    "        this_obj = histories[(z, hn_fraction)]\n",
    "        ax.plot(plot_times, this_obj.cumulative_sn_ii[field], \n",
    "                c=hn_color(hn_fraction),\n",
    "                label=\"SN II $f_{HN}$ = \" + \"{:.1f}\".format(hn_fraction))\n",
    "        \n",
    "        \n",
    "    # the last one is fine, HN fraction doesn't matter for other yields\n",
    "    ax.plot(plot_times, this_obj.cumulative_sn_ia[field], label=\"SN Ia\")\n",
    "    ax.plot(plot_times, this_obj.cumulative_agb[field], label=\"AGB\")\n",
    "    ax.plot(plot_times, this_obj.cumulative_winds[field], label=\"Winds\", c=bpl.color_cycle[3])\n",
    "\n",
    "    ax.legend(loc=6, frameon=False)\n",
    "    ax.set_limits(left_limit, right_limit, 0)"
   ]
  },
  {
   "cell_type": "code",
   "execution_count": null,
   "metadata": {},
   "outputs": [],
   "source": [
    "plot_history(\"O\", 0.02)"
   ]
  },
  {
   "cell_type": "markdown",
   "metadata": {},
   "source": [
    "# Plot the total ejecta as a function of metallicity"
   ]
  },
  {
   "cell_type": "code",
   "execution_count": null,
   "metadata": {},
   "outputs": [],
   "source": [
    "def plot_metallicity_evolution(ax, field, source, hn_fraction, color):\n",
    "    ejecta = []\n",
    "    for z in zs:\n",
    "        this_obj = histories[(z, hn_fraction)]\n",
    "        \n",
    "        if source == \"SNII\":\n",
    "            this_history = this_obj.cumulative_sn_ii\n",
    "        elif source == 'SNIa':\n",
    "            this_history = this_obj.cumulative_sn_ia\n",
    "        elif source == 'AGB':\n",
    "            this_history = this_obj.cumulative_agb\n",
    "        elif source == 'Winds':\n",
    "            this_history = this_obj.cumulative_winds\n",
    "            \n",
    "        ejecta.append(this_history[field][-1])\n",
    "        \n",
    "    if source == \"SNII\":\n",
    "        legend_entry = \"SN II $f_{HN}$ = \" + \"{:.1f}\".format(hn_fraction)\n",
    "    else:\n",
    "        legend_entry = source\n",
    "        \n",
    "    ax.plot(zs, ejecta, c=color, label=legend_entry)"
   ]
  },
  {
   "cell_type": "code",
   "execution_count": null,
   "metadata": {},
   "outputs": [],
   "source": [
    "def plot_total_ejecta_metallicity(field):\n",
    "    fig, ax = bpl.subplots()\n",
    "\n",
    "    ax.set_xscale(\"log\")\n",
    "    label = \"Total \" + field + \" Ejecta [$M_\\odot$ / $M_{SSP}$]\"\n",
    "    ax.add_labels(\"Metallicity\", label)\n",
    "    \n",
    "    for hn_fraction in hn_fractions:\n",
    "        plot_metallicity_evolution(ax, field, \"SNII\", hn_fraction, hn_color(hn_fraction))\n",
    "        \n",
    "        \n",
    "    # the last one is fine, HN fraction doesn't matter for other yields\n",
    "    plot_metallicity_evolution(ax, field, \"SNIa\",  hn_fraction, bpl.color_cycle[0])\n",
    "    plot_metallicity_evolution(ax, field, \"AGB\",   hn_fraction, bpl.color_cycle[1])\n",
    "    plot_metallicity_evolution(ax, field, \"Winds\", hn_fraction, bpl.color_cycle[3])\n",
    "\n",
    "    ax.legend(frameon=False)\n",
    "    ax.set_limits(1E-4, 0.02, 0)"
   ]
  },
  {
   "cell_type": "code",
   "execution_count": null,
   "metadata": {
    "scrolled": false
   },
   "outputs": [],
   "source": [
    "plot_total_ejecta_metallicity(\"O\")\n",
    "plot_total_ejecta_metallicity(\"Mg\")\n",
    "plot_total_ejecta_metallicity(\"Fe\")"
   ]
  },
  {
   "cell_type": "markdown",
   "metadata": {},
   "source": [
    "# Metallicity ratios"
   ]
  },
  {
   "cell_type": "code",
   "execution_count": 2,
   "metadata": {},
   "outputs": [],
   "source": [
    "def plot_metallicity_ratio_evolution(ax, field, hn_fraction, color, include_total):\n",
    "    ratios = []\n",
    "    \n",
    "    for z in zs:\n",
    "        this_obj = histories[(z, hn_fraction)]\n",
    "        \n",
    "        total_x  = this_obj.cumulative_sn_ii[field][-1]\n",
    "        total_fe = this_obj.cumulative_sn_ii[\"Fe\"][-1]\n",
    "        \n",
    "        if include_total:\n",
    "            total_x += this_obj.cumulative_sn_ia[field][-1]\n",
    "            total_x += this_obj.cumulative_agb[field][-1]\n",
    "            total_x += this_obj.cumulative_winds[field][-1]\n",
    "\n",
    "            total_fe += this_obj.cumulative_sn_ia[\"Fe\"][-1]\n",
    "            total_fe += this_obj.cumulative_agb[\"Fe\"][-1]\n",
    "            total_fe += this_obj.cumulative_winds[\"Fe\"][-1]\n",
    "        \n",
    "        this_x_on_fe = np.log10(total_x / total_fe) - np.log10(solar_metallicities[field] / solar_metallicities[\"Fe\"])\n",
    "        ratios.append(this_x_on_fe)\n",
    "        \n",
    "\n",
    "    legend_entry = \"$f_{HN}$ = \" + \"{:.1f}\".format(hn_fraction)\n",
    "    \n",
    "    fe_h = [np.log10(z/0.02) for z in zs]\n",
    "\n",
    "    ax.plot(fe_h, ratios, c=color, label=legend_entry)"
   ]
  },
  {
   "cell_type": "code",
   "execution_count": 3,
   "metadata": {},
   "outputs": [],
   "source": [
    "data = table.Table.read(\"./gc_data.txt\", format=\"ascii\")"
   ]
  },
  {
   "cell_type": "code",
   "execution_count": 4,
   "metadata": {},
   "outputs": [],
   "source": [
    "def plot_data(ax, elt):\n",
    "    # there are two options for x data\n",
    "    feI  = data[\"[FeI/H]\"]\n",
    "    feII = data[\"[FeII/H]\"]\n",
    "    feI_err  = data[\"e[FeI/H]\"]\n",
    "    feII_err = data[\"e_[FeII/H]\"]\n",
    "    elt_data = data[\"[{}/Fe]\".format(elt)]\n",
    "    elt_data_err = data[\"e_[{}/Fe]\".format(elt)]\n",
    "    \n",
    "    x_values = []\n",
    "    y_values = []\n",
    "    y_errs = []\n",
    "    for f1, ef1, f2, ef2, x, x_err in zip(feI, feI_err, feII, feII_err, elt_data, elt_data_err):\n",
    "        if x_err > 1:\n",
    "            continue\n",
    "        \n",
    "        good_fe = []\n",
    "        if ef1 < 1:\n",
    "            good_fe.append(f1)\n",
    "        if ef2 < 1:\n",
    "            good_fe.append(f2)\n",
    "            \n",
    "        if len(good_fe) == 0:\n",
    "            continue\n",
    "        \n",
    "        x_values.append(np.mean(good_fe))\n",
    "        y_values.append(x)\n",
    "        y_errs.append(x_err)\n",
    "        \n",
    "    ax.scatter(x_values, y_values, c=\"0.5\")\n",
    "    ax.errorbar(x_values, y_values, yerr=y_errs, c=\"0.5\", markersize=0)"
   ]
  },
  {
   "cell_type": "code",
   "execution_count": 5,
   "metadata": {},
   "outputs": [],
   "source": [
    "def plot_ratio_evolution(ax, field, all_sources):\n",
    "    \n",
    "\n",
    "#     ax.set_xscale(\"log\")\n",
    "    if all_sources:\n",
    "        label = \"[{}/Fe] of all ejecta\".format(field)\n",
    "    else:\n",
    "        label = \"[{}/Fe]\".format(field)\n",
    "        #\"[{}/Fe] of SNII ejecta\".format(field)\n",
    "        \n",
    "    ax.add_labels(\"[Fe/H]\", label)\n",
    "    \n",
    "    for hn_fraction in hn_fractions:\n",
    "        plot_metallicity_ratio_evolution(ax, field, hn_fraction, hn_color(hn_fraction), all_sources)\n",
    "\n",
    "#     ax.legend(frameon=False)\n",
    "    if elt != \"N\":\n",
    "        ax.set_limits(-3, 0, -0.5, 1.0)\n",
    "    ax.axhline(0, ls=\":\", c=\"0.3\")\n"
   ]
  },
  {
   "cell_type": "code",
   "execution_count": 6,
   "metadata": {},
   "outputs": [],
   "source": [
    "not_fe_elts = elts = [\"C\", \"N\", \"O\", \"Mg\", \"S\", \"Ca\"]"
   ]
  },
  {
   "cell_type": "code",
   "execution_count": 7,
   "metadata": {},
   "outputs": [
    {
     "ename": "NameError",
     "evalue": "name 'hn_fractions' is not defined",
     "output_type": "error",
     "traceback": [
      "\u001b[0;31m---------------------------------------------------------------------------\u001b[0m",
      "\u001b[0;31mNameError\u001b[0m                                 Traceback (most recent call last)",
      "\u001b[0;32m<ipython-input-7-0126774363ba>\u001b[0m in \u001b[0;36m<module>\u001b[0;34m\u001b[0m\n\u001b[1;32m      3\u001b[0m \u001b[0;34m\u001b[0m\u001b[0m\n\u001b[1;32m      4\u001b[0m \u001b[0;32mfor\u001b[0m \u001b[0max\u001b[0m\u001b[0;34m,\u001b[0m \u001b[0melt\u001b[0m \u001b[0;32min\u001b[0m \u001b[0mzip\u001b[0m\u001b[0;34m(\u001b[0m\u001b[0maxs\u001b[0m\u001b[0;34m,\u001b[0m \u001b[0mnot_fe_elts\u001b[0m\u001b[0;34m)\u001b[0m\u001b[0;34m:\u001b[0m\u001b[0;34m\u001b[0m\u001b[0;34m\u001b[0m\u001b[0m\n\u001b[0;32m----> 5\u001b[0;31m     \u001b[0mplot_ratio_evolution\u001b[0m\u001b[0;34m(\u001b[0m\u001b[0max\u001b[0m\u001b[0;34m,\u001b[0m \u001b[0melt\u001b[0m\u001b[0;34m,\u001b[0m \u001b[0;32mFalse\u001b[0m\u001b[0;34m)\u001b[0m\u001b[0;34m\u001b[0m\u001b[0;34m\u001b[0m\u001b[0m\n\u001b[0m\u001b[1;32m      6\u001b[0m \u001b[0;34m\u001b[0m\u001b[0m\n\u001b[1;32m      7\u001b[0m \u001b[0maxs\u001b[0m\u001b[0;34m[\u001b[0m\u001b[0;36m1\u001b[0m\u001b[0;34m]\u001b[0m\u001b[0;34m.\u001b[0m\u001b[0mlegend\u001b[0m\u001b[0;34m(\u001b[0m\u001b[0mframeon\u001b[0m\u001b[0;34m=\u001b[0m\u001b[0;32mFalse\u001b[0m\u001b[0;34m)\u001b[0m\u001b[0;34m\u001b[0m\u001b[0;34m\u001b[0m\u001b[0m\n",
      "\u001b[0;32m<ipython-input-5-a0de8499f1da>\u001b[0m in \u001b[0;36mplot_ratio_evolution\u001b[0;34m(ax, field, all_sources)\u001b[0m\n\u001b[1;32m     11\u001b[0m     \u001b[0max\u001b[0m\u001b[0;34m.\u001b[0m\u001b[0madd_labels\u001b[0m\u001b[0;34m(\u001b[0m\u001b[0;34m\"[Fe/H]\"\u001b[0m\u001b[0;34m,\u001b[0m \u001b[0mlabel\u001b[0m\u001b[0;34m)\u001b[0m\u001b[0;34m\u001b[0m\u001b[0;34m\u001b[0m\u001b[0m\n\u001b[1;32m     12\u001b[0m \u001b[0;34m\u001b[0m\u001b[0m\n\u001b[0;32m---> 13\u001b[0;31m     \u001b[0;32mfor\u001b[0m \u001b[0mhn_fraction\u001b[0m \u001b[0;32min\u001b[0m \u001b[0mhn_fractions\u001b[0m\u001b[0;34m:\u001b[0m\u001b[0;34m\u001b[0m\u001b[0;34m\u001b[0m\u001b[0m\n\u001b[0m\u001b[1;32m     14\u001b[0m         \u001b[0mplot_metallicity_ratio_evolution\u001b[0m\u001b[0;34m(\u001b[0m\u001b[0max\u001b[0m\u001b[0;34m,\u001b[0m \u001b[0mfield\u001b[0m\u001b[0;34m,\u001b[0m \u001b[0mhn_fraction\u001b[0m\u001b[0;34m,\u001b[0m \u001b[0mhn_color\u001b[0m\u001b[0;34m(\u001b[0m\u001b[0mhn_fraction\u001b[0m\u001b[0;34m)\u001b[0m\u001b[0;34m,\u001b[0m \u001b[0mall_sources\u001b[0m\u001b[0;34m)\u001b[0m\u001b[0;34m\u001b[0m\u001b[0;34m\u001b[0m\u001b[0m\n\u001b[1;32m     15\u001b[0m \u001b[0;34m\u001b[0m\u001b[0m\n",
      "\u001b[0;31mNameError\u001b[0m: name 'hn_fractions' is not defined"
     ]
    },
    {
     "data": {
      "image/png": "[encoded data removed]",
      "text/plain": [
       "<Figure size 1296x720 with 6 Axes>"
      ]
     },
     "metadata": {
      "needs_background": "light"
     },
     "output_type": "display_data"
    }
   ],
   "source": [
    "fig, axs = bpl.subplots(ncols=3, nrows=2, figsize=[18, 10], tight_layout=True)\n",
    "axs = axs.flatten()\n",
    "\n",
    "for ax, elt in zip(axs, not_fe_elts):\n",
    "    plot_ratio_evolution(ax, elt, False)\n",
    "    \n",
    "axs[1].legend(frameon=False)\n",
    "plot_data(axs[2], \"O\")\n",
    "plot_data(axs[3], \"Mg\")\n",
    "\n",
    "fig.savefig(\"hn_fraction_yields.png\")"
   ]
  },
  {
   "cell_type": "markdown",
   "metadata": {},
   "source": [
    "First Generation O is high, Mg should be pretty typical\n"
   ]
  },
  {
   "cell_type": "markdown",
   "metadata": {},
   "source": [
    "# Plot energy"
   ]
  },
  {
   "cell_type": "code",
   "execution_count": null,
   "metadata": {},
   "outputs": [],
   "source": [
    "old_sn_low = 3E6\n",
    "old_sn_high = 1.5E7 + 3E6\n",
    "\n",
    "old_number_snii = integrate.quad(imf.normalized_dn_dm, 8.0, 40.0)[0]  # calculated the same way\n",
    "\n",
    "def old_sn_rate(age, cluster_mass=1):\n",
    "    if age < old_sn_low:\n",
    "        return 0\n",
    "    if age > old_sn_high:\n",
    "        return 0\n",
    "    \n",
    "    phi_per_dt = 1.0 / age\n",
    "    rate = phi_per_dt * cluster_mass * old_number_snii\n",
    "    return rate\n",
    "\n",
    "def old_sn_energies(age):\n",
    "    return 1E51 * old_sn_rate(age)"
   ]
  },
  {
   "cell_type": "code",
   "execution_count": null,
   "metadata": {},
   "outputs": [],
   "source": [
    "old_ages = np.linspace(0, 40E6, 1000)\n",
    "old_e_rates = [old_sn_energies(a) for a in old_ages]\n",
    "old_e_cum = integrate.cumtrapz(x=old_ages, y=old_e_rates, initial=0) / 1E49"
   ]
  },
  {
   "cell_type": "code",
   "execution_count": null,
   "metadata": {},
   "outputs": [],
   "source": [
    "z = 0.02\n",
    "\n",
    "plot_times = times[z][1:]\n",
    "fig, ax = bpl.subplots()\n",
    "\n",
    "ax.add_labels(\"Age [Myr]\", \"Cumulative Energy [10$^{49}$ erg / $M_{\\odot}$]\")\n",
    "\n",
    "for hn_fraction in hn_fractions:\n",
    "    this_obj = histories[(z, hn_fraction)]\n",
    "    ax.plot(plot_times / 1E6, \n",
    "            np.array(this_obj.cumulative_sn_ii[\"E\"]) / (1E49 * mass), \n",
    "            c=hn_color(hn_fraction),\n",
    "            label=\"$f_{HN}$ = \" + \"{:.1f}\".format(hn_fraction))\n",
    "\n",
    "ax.plot(old_ages/1E6, old_e_cum, c=bpl.color_cycle[1], label=\"Old ART\")\n",
    "\n",
    "ax.legend(frameon=False, fontsize=16)\n",
    "\n",
    "ax.set_limits(0, 40, 0, 7)\n",
    "\n",
    "fig.savefig(\"hn_fraction_energy.png\")"
   ]
  },
  {
   "cell_type": "code",
   "execution_count": null,
   "metadata": {},
   "outputs": [],
   "source": []
  },
  {
   "cell_type": "code",
   "execution_count": null,
   "metadata": {},
   "outputs": [],
   "source": []
  },
  {
   "cell_type": "code",
   "execution_count": null,
   "metadata": {},
   "outputs": [],
   "source": []
  }
 ],
 "metadata": {
  "kernelspec": {
   "display_name": "general",
   "language": "python",
   "name": "general"
  },
  "language_info": {
   "codemirror_mode": {
    "name": "ipython",
    "version": 3
   },
   "file_extension": ".py",
   "mimetype": "text/x-python",
   "name": "python",
   "nbconvert_exporter": "python",
   "pygments_lexer": "ipython3",
   "version": "3.8.2"
  }
 },
 "nbformat": 4,
 "nbformat_minor": 4
}
