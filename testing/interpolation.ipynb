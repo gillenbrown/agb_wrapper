{
 "cells": [
  {
   "cell_type": "markdown",
   "metadata": {},
   "source": [
    "# Interpolation\n",
    "\n",
    "This notebook is some code to get the truth values for the interpolation testing I'll do."
   ]
  },
  {
   "cell_type": "code",
   "execution_count": 1,
   "metadata": {},
   "outputs": [],
   "source": [
    "from scipy import interpolate\n",
    "import numpy as np"
   ]
  },
  {
   "cell_type": "code",
   "execution_count": 2,
   "metadata": {},
   "outputs": [],
   "source": [
    "def string_to_list(string):\n",
    "    return [float(item) for item in string.split()]"
   ]
  },
  {
   "cell_type": "code",
   "execution_count": 3,
   "metadata": {},
   "outputs": [],
   "source": [
    "def interpolate(x, x_0, x_1, y_0, y_1):\n",
    "    \"\"\"From wikipedia\"\"\"\n",
    "    term_a = y_0 * (x_1 - x)\n",
    "    term_b = y_1 * (x - x_0)\n",
    "    return (term_a + term_b) / (x_1 - x_0)"
   ]
  },
  {
   "cell_type": "code",
   "execution_count": 4,
   "metadata": {},
   "outputs": [
    {
     "name": "stdout",
     "output_type": "stream",
     "text": [
      "[6.354635e-12]\n"
     ]
    }
   ],
   "source": [
    "data_1 = string_to_list(\"5.97326e-12\")\n",
    "data_2 = string_to_list(\"6.99026e-12\")\n",
    "\n",
    "answers = []\n",
    "for d1, d2 in zip(data_1, data_2):\n",
    "    answers.append(interpolate(0.01, 0.004, 0.02, d1, d2))\n",
    "print(answers)"
   ]
  },
  {
   "cell_type": "code",
   "execution_count": 5,
   "metadata": {},
   "outputs": [
    {
     "name": "stdout",
     "output_type": "stream",
     "text": [
      "[1.3433394997876858e-11]\n"
     ]
    }
   ],
   "source": [
    "# index 1 is age, then metallicity\n",
    "data_a1z1 = string_to_list(\"1.00688e-11\")\n",
    "data_a1z2 = string_to_list(\"2.01657e-11\")\n",
    "data_a2z1 = string_to_list(\"9.99162e-12\")\n",
    "data_a2z2 = string_to_list(\"2.00144e-11\")\n",
    "\n",
    "a_1 = 1.99992e+07\n",
    "a_2 = 2.00777e+07\n",
    "z_1 = 0.001\n",
    "z_2 = 0.004\n",
    "\n",
    "a = 2e7\n",
    "z = 0.002\n",
    "\n",
    "# interpolate in age first\n",
    "data_z1 = []\n",
    "for d1, d2 in zip(data_a1z1, data_a2z1):\n",
    "    data_z1.append(interpolate(a, a_1, a_2, d1, d2))\n",
    "    \n",
    "data_z2 = []\n",
    "for d1, d2 in zip(data_a1z2, data_a2z2):\n",
    "    data_z2.append(interpolate(a, a_1, a_2, d1, d2))\n",
    "    \n",
    "answers = []\n",
    "for d1, d2 in zip(data_z1, data_z2):\n",
    "    answers.append(interpolate(z, z_1, z_2, d1, d2))\n",
    "print(answers)"
   ]
  },
  {
   "cell_type": "code",
   "execution_count": 6,
   "metadata": {},
   "outputs": [
    {
     "data": {
      "text/plain": [
       "0.001"
      ]
     },
     "execution_count": 6,
     "metadata": {},
     "output_type": "execute_result"
    }
   ],
   "source": [
    "z_1"
   ]
  },
  {
   "cell_type": "code",
   "execution_count": null,
   "metadata": {},
   "outputs": [],
   "source": []
  }
 ],
 "metadata": {
  "kernelspec": {
   "display_name": "Python 3",
   "language": "python",
   "name": "python3"
  },
  "language_info": {
   "codemirror_mode": {
    "name": "ipython",
    "version": 3
   },
   "file_extension": ".py",
   "mimetype": "text/x-python",
   "name": "python",
   "nbconvert_exporter": "python",
   "pygments_lexer": "ipython3",
   "version": "3.5.6"
  }
 },
 "nbformat": 4,
 "nbformat_minor": 2
}
